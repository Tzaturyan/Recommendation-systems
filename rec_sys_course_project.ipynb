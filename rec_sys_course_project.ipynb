{
 "cells": [
  {
   "cell_type": "markdown",
   "id": "a7e2c193",
   "metadata": {},
   "source": [
    "# Курсовой проект"
   ]
  },
  {
   "cell_type": "markdown",
   "id": "837c1b6c",
   "metadata": {},
   "source": [
    "#### Целевая метрика - precision@5. Порог для уcпешной сдачи проекта precision@5 > 25%\n",
    "#### Будет public тестовый датасет, на котором вы сможете измерять метрику\n",
    "#### Также будет private тестовый датасет для измерения финального качества\n",
    "#### НЕ обязательно, но крайне желательно использовать 2-ух уровневые рекоммендательные системы в проекте\n",
    "#### Вы сдаете код проекта в виде github репозитория и csv файл с рекомендациями"
   ]
  },
  {
   "cell_type": "code",
   "execution_count": 1,
   "id": "6adb9fdd",
   "metadata": {},
   "outputs": [
    {
     "name": "stdout",
     "output_type": "stream",
     "text": [
      "Note: you may need to restart the kernel to use updated packages.Requirement already satisfied: catboost in c:\\users\\1\\anaconda3\\lib\\site-packages (1.2)\n",
      "Requirement already satisfied: graphviz in c:\\users\\1\\anaconda3\\lib\\site-packages (from catboost) (0.20.1)\n",
      "Requirement already satisfied: matplotlib in c:\\users\\1\\appdata\\roaming\\python\\python39\\site-packages (from catboost) (3.5.3)\n",
      "Requirement already satisfied: numpy>=1.16.0 in c:\\users\\1\\anaconda3\\lib\\site-packages (from catboost) (1.21.0)\n",
      "Requirement already satisfied: pandas>=0.24 in c:\\users\\1\\anaconda3\\lib\\site-packages (from catboost) (1.4.2)\n",
      "Requirement already satisfied: scipy in c:\\users\\1\\anaconda3\\lib\\site-packages (from catboost) (1.7.3)\n",
      "Requirement already satisfied: plotly in c:\\users\\1\\anaconda3\\lib\\site-packages (from catboost) (5.6.0)\n"
     ]
    },
    {
     "name": "stderr",
     "output_type": "stream",
     "text": [
      "\n",
      "[notice] A new release of pip is available: 23.1.1 -> 23.2\n",
      "[notice] To update, run: python.exe -m pip install --upgrade pip\n"
     ]
    },
    {
     "name": "stdout",
     "output_type": "stream",
     "text": [
      "\n",
      "Requirement already satisfied: six in c:\\users\\1\\anaconda3\\lib\\site-packages (from catboost) (1.16.0)\n",
      "Requirement already satisfied: python-dateutil>=2.8.1 in c:\\users\\1\\anaconda3\\lib\\site-packages (from pandas>=0.24->catboost) (2.8.2)\n",
      "Requirement already satisfied: pytz>=2020.1 in c:\\users\\1\\anaconda3\\lib\\site-packages (from pandas>=0.24->catboost) (2021.3)\n",
      "Requirement already satisfied: cycler>=0.10 in c:\\users\\1\\anaconda3\\lib\\site-packages (from matplotlib->catboost) (0.11.0)\n",
      "Requirement already satisfied: fonttools>=4.22.0 in c:\\users\\1\\anaconda3\\lib\\site-packages (from matplotlib->catboost) (4.25.0)\n",
      "Requirement already satisfied: kiwisolver>=1.0.1 in c:\\users\\1\\anaconda3\\lib\\site-packages (from matplotlib->catboost) (1.3.2)\n",
      "Requirement already satisfied: packaging>=20.0 in c:\\users\\1\\anaconda3\\lib\\site-packages (from matplotlib->catboost) (21.3)\n",
      "Requirement already satisfied: pillow>=6.2.0 in c:\\users\\1\\anaconda3\\lib\\site-packages (from matplotlib->catboost) (9.0.1)\n",
      "Requirement already satisfied: pyparsing>=2.2.1 in c:\\users\\1\\anaconda3\\lib\\site-packages (from matplotlib->catboost) (3.0.4)\n",
      "Requirement already satisfied: tenacity>=6.2.0 in c:\\users\\1\\anaconda3\\lib\\site-packages (from plotly->catboost) (8.0.1)\n"
     ]
    }
   ],
   "source": [
    "pip install catboost"
   ]
  },
  {
   "cell_type": "code",
   "execution_count": 2,
   "id": "fa54706f",
   "metadata": {},
   "outputs": [],
   "source": [
    "import pandas as pd\n",
    "import numpy as np\n",
    "import matplotlib.pyplot as plt\n",
    "%matplotlib inline\n",
    "\n",
    "# Для работы с матрицами\n",
    "from scipy.sparse import csr_matrix\n",
    "\n",
    "# Матричная факторизация\n",
    "from implicit import als\n",
    "from sklearn.model_selection import train_test_split\n",
    "# Модель второго уровня\n",
    "from lightgbm import LGBMClassifier\n",
    "import lightgbm  as lgb\n",
    "import catboost as catb\n",
    "\n",
    "# Матричная факторизация\n",
    "from implicit.als import AlternatingLeastSquares\n",
    "from implicit.nearest_neighbours import ItemItemRecommender  # нужен для одного трюка\n",
    "from implicit.nearest_neighbours import bm25_weight, tfidf_weight"
   ]
  },
  {
   "cell_type": "markdown",
   "id": "726c2133",
   "metadata": {},
   "source": [
    "#### Загрузим метрики"
   ]
  },
  {
   "cell_type": "code",
   "execution_count": 3,
   "id": "958e8fb3",
   "metadata": {},
   "outputs": [],
   "source": [
    "def precision(recommended_list, bought_list):\n",
    "    bought_list = np.array(bought_list)\n",
    "    recommended_list = np.array(recommended_list)\n",
    "\n",
    "    flags = np.isin(bought_list, recommended_list)\n",
    "\n",
    "    precision = flags.sum() / len(recommended_list)\n",
    "\n",
    "    return precision\n",
    "\n",
    "\n",
    "def precision_at_k(recommended_list, bought_list, k=5):\n",
    "    bought_list = np.array(bought_list)\n",
    "    recommended_list = np.array(recommended_list)\n",
    "    \n",
    "\n",
    "    bought_list = bought_list  # Тут нет [:k] !!\n",
    "    \n",
    "    if k < len(recommended_list):\n",
    "        recommended_list = recommended_list[:k]\n",
    "\n",
    "    flags = np.isin(bought_list, recommended_list)\n",
    "\n",
    "    precision = flags.sum() / len(recommended_list)\n",
    "\n",
    "    return precision\n",
    "\n",
    "\n",
    "def money_precision_at_k(recommended_list, bought_list, prices_recommended, k=5):\n",
    "    # your_code\n",
    "    # Лучше считать через скалярное произведение, а не цикл\n",
    "\n",
    "    return precision\n",
    "\n",
    "\n",
    "def recall(recommended_list, bought_list):\n",
    "    bought_list = np.array(bought_list)\n",
    "    recommended_list = np.array(recommended_list)\n",
    "\n",
    "    flags = np.isin(bought_list, recommended_list)\n",
    "\n",
    "    recall = flags.sum() / len(bought_list)\n",
    "\n",
    "    return recall\n",
    "\n",
    "\n",
    "def recall_at_k(recommended_list, bought_list, k=5):\n",
    "\n",
    "    bought_list = np.array(bought_list)\n",
    "    recommended_list = np.array(recommended_list)\n",
    "\n",
    "    if k < len(recommended_list):\n",
    "        recommended_list = recommended_list[:k]\n",
    "\n",
    "    flags = np.isin(bought_list, recommended_list)\n",
    "    recall = flags.sum() / len(bought_list)\n",
    "\n",
    "    return recall\n",
    "\n",
    "\n",
    "def money_recall_at_k(recommended_list, bought_list, prices_recommended, prices_bought, k=5):\n",
    "    # your_code\n",
    "\n",
    "    return recall"
   ]
  },
  {
   "cell_type": "code",
   "execution_count": 4,
   "id": "df2f8d02",
   "metadata": {},
   "outputs": [],
   "source": [
    "data = pd.read_csv('C:/Users/1/Downloads/retail_train.csv')\n",
    "item_features = pd.read_csv('C:/Users/1/Downloads/product.csv')\n",
    "user_features = pd.read_csv('C:/Users/1/Downloads/hh_demographic.csv')\n",
    "\n",
    "# column processing\n",
    "item_features.columns = [col.lower() for col in item_features.columns]\n",
    "user_features.columns = [col.lower() for col in user_features.columns]\n",
    "\n",
    "item_features.rename(columns={'product_id': 'item_id'}, inplace=True)\n",
    "user_features.rename(columns={'household_key': 'user_id'}, inplace=True)"
   ]
  },
  {
   "cell_type": "code",
   "execution_count": 5,
   "id": "6bfec566",
   "metadata": {},
   "outputs": [],
   "source": [
    "N = 150 # к-во товаров получаемых из модели 1-го уровня.\n",
    "final_predict_count = 30 # К-во рекомендаций выдаваемых\n",
    "val_count = 5 # финальное к-во репомендаций товаров. На них будет осуществляться подсчет к-ва.\n",
    "top_items_count = 5000 #"
   ]
  },
  {
   "cell_type": "code",
   "execution_count": 6,
   "id": "052d0d9d",
   "metadata": {},
   "outputs": [
    {
     "data": {
      "text/html": [
       "<div>\n",
       "<style scoped>\n",
       "    .dataframe tbody tr th:only-of-type {\n",
       "        vertical-align: middle;\n",
       "    }\n",
       "\n",
       "    .dataframe tbody tr th {\n",
       "        vertical-align: top;\n",
       "    }\n",
       "\n",
       "    .dataframe thead th {\n",
       "        text-align: right;\n",
       "    }\n",
       "</style>\n",
       "<table border=\"1\" class=\"dataframe\">\n",
       "  <thead>\n",
       "    <tr style=\"text-align: right;\">\n",
       "      <th></th>\n",
       "      <th>user_id</th>\n",
       "      <th>basket_id</th>\n",
       "      <th>day</th>\n",
       "      <th>item_id</th>\n",
       "      <th>quantity</th>\n",
       "      <th>sales_value</th>\n",
       "      <th>store_id</th>\n",
       "      <th>retail_disc</th>\n",
       "      <th>trans_time</th>\n",
       "      <th>week_no</th>\n",
       "      <th>coupon_disc</th>\n",
       "      <th>coupon_match_disc</th>\n",
       "    </tr>\n",
       "  </thead>\n",
       "  <tbody>\n",
       "    <tr>\n",
       "      <th>0</th>\n",
       "      <td>2375</td>\n",
       "      <td>26984851472</td>\n",
       "      <td>1</td>\n",
       "      <td>1004906</td>\n",
       "      <td>1</td>\n",
       "      <td>1.39</td>\n",
       "      <td>364</td>\n",
       "      <td>-0.6</td>\n",
       "      <td>1631</td>\n",
       "      <td>1</td>\n",
       "      <td>0.0</td>\n",
       "      <td>0.0</td>\n",
       "    </tr>\n",
       "    <tr>\n",
       "      <th>1</th>\n",
       "      <td>2375</td>\n",
       "      <td>26984851472</td>\n",
       "      <td>1</td>\n",
       "      <td>1033142</td>\n",
       "      <td>1</td>\n",
       "      <td>0.82</td>\n",
       "      <td>364</td>\n",
       "      <td>0.0</td>\n",
       "      <td>1631</td>\n",
       "      <td>1</td>\n",
       "      <td>0.0</td>\n",
       "      <td>0.0</td>\n",
       "    </tr>\n",
       "    <tr>\n",
       "      <th>2</th>\n",
       "      <td>2375</td>\n",
       "      <td>26984851472</td>\n",
       "      <td>1</td>\n",
       "      <td>1036325</td>\n",
       "      <td>1</td>\n",
       "      <td>0.99</td>\n",
       "      <td>364</td>\n",
       "      <td>-0.3</td>\n",
       "      <td>1631</td>\n",
       "      <td>1</td>\n",
       "      <td>0.0</td>\n",
       "      <td>0.0</td>\n",
       "    </tr>\n",
       "  </tbody>\n",
       "</table>\n",
       "</div>"
      ],
      "text/plain": [
       "   user_id    basket_id  day  item_id  quantity  sales_value  store_id  \\\n",
       "0     2375  26984851472    1  1004906         1         1.39       364   \n",
       "1     2375  26984851472    1  1033142         1         0.82       364   \n",
       "2     2375  26984851472    1  1036325         1         0.99       364   \n",
       "\n",
       "   retail_disc  trans_time  week_no  coupon_disc  coupon_match_disc  \n",
       "0         -0.6        1631        1          0.0                0.0  \n",
       "1          0.0        1631        1          0.0                0.0  \n",
       "2         -0.3        1631        1          0.0                0.0  "
      ]
     },
     "execution_count": 6,
     "metadata": {},
     "output_type": "execute_result"
    }
   ],
   "source": [
    "data.head(3)"
   ]
  },
  {
   "cell_type": "code",
   "execution_count": 7,
   "id": "275ac767",
   "metadata": {},
   "outputs": [
    {
     "data": {
      "text/html": [
       "<div>\n",
       "<style scoped>\n",
       "    .dataframe tbody tr th:only-of-type {\n",
       "        vertical-align: middle;\n",
       "    }\n",
       "\n",
       "    .dataframe tbody tr th {\n",
       "        vertical-align: top;\n",
       "    }\n",
       "\n",
       "    .dataframe thead th {\n",
       "        text-align: right;\n",
       "    }\n",
       "</style>\n",
       "<table border=\"1\" class=\"dataframe\">\n",
       "  <thead>\n",
       "    <tr style=\"text-align: right;\">\n",
       "      <th></th>\n",
       "      <th>item_id</th>\n",
       "      <th>manufacturer</th>\n",
       "      <th>department</th>\n",
       "      <th>brand</th>\n",
       "      <th>commodity_desc</th>\n",
       "      <th>sub_commodity_desc</th>\n",
       "      <th>curr_size_of_product</th>\n",
       "    </tr>\n",
       "  </thead>\n",
       "  <tbody>\n",
       "    <tr>\n",
       "      <th>0</th>\n",
       "      <td>25671</td>\n",
       "      <td>2</td>\n",
       "      <td>GROCERY</td>\n",
       "      <td>National</td>\n",
       "      <td>FRZN ICE</td>\n",
       "      <td>ICE - CRUSHED/CUBED</td>\n",
       "      <td>22 LB</td>\n",
       "    </tr>\n",
       "    <tr>\n",
       "      <th>1</th>\n",
       "      <td>26081</td>\n",
       "      <td>2</td>\n",
       "      <td>MISC. TRANS.</td>\n",
       "      <td>National</td>\n",
       "      <td>NO COMMODITY DESCRIPTION</td>\n",
       "      <td>NO SUBCOMMODITY DESCRIPTION</td>\n",
       "      <td></td>\n",
       "    </tr>\n",
       "    <tr>\n",
       "      <th>2</th>\n",
       "      <td>26093</td>\n",
       "      <td>69</td>\n",
       "      <td>PASTRY</td>\n",
       "      <td>Private</td>\n",
       "      <td>BREAD</td>\n",
       "      <td>BREAD:ITALIAN/FRENCH</td>\n",
       "      <td></td>\n",
       "    </tr>\n",
       "  </tbody>\n",
       "</table>\n",
       "</div>"
      ],
      "text/plain": [
       "   item_id  manufacturer    department     brand            commodity_desc  \\\n",
       "0    25671             2       GROCERY  National                  FRZN ICE   \n",
       "1    26081             2  MISC. TRANS.  National  NO COMMODITY DESCRIPTION   \n",
       "2    26093            69        PASTRY   Private                     BREAD   \n",
       "\n",
       "            sub_commodity_desc curr_size_of_product  \n",
       "0          ICE - CRUSHED/CUBED                22 LB  \n",
       "1  NO SUBCOMMODITY DESCRIPTION                       \n",
       "2         BREAD:ITALIAN/FRENCH                       "
      ]
     },
     "execution_count": 7,
     "metadata": {},
     "output_type": "execute_result"
    }
   ],
   "source": [
    "item_features.head(3)"
   ]
  },
  {
   "cell_type": "code",
   "execution_count": 8,
   "id": "98729605",
   "metadata": {},
   "outputs": [
    {
     "data": {
      "text/html": [
       "<div>\n",
       "<style scoped>\n",
       "    .dataframe tbody tr th:only-of-type {\n",
       "        vertical-align: middle;\n",
       "    }\n",
       "\n",
       "    .dataframe tbody tr th {\n",
       "        vertical-align: top;\n",
       "    }\n",
       "\n",
       "    .dataframe thead th {\n",
       "        text-align: right;\n",
       "    }\n",
       "</style>\n",
       "<table border=\"1\" class=\"dataframe\">\n",
       "  <thead>\n",
       "    <tr style=\"text-align: right;\">\n",
       "      <th></th>\n",
       "      <th>age_desc</th>\n",
       "      <th>marital_status_code</th>\n",
       "      <th>income_desc</th>\n",
       "      <th>homeowner_desc</th>\n",
       "      <th>hh_comp_desc</th>\n",
       "      <th>household_size_desc</th>\n",
       "      <th>kid_category_desc</th>\n",
       "      <th>user_id</th>\n",
       "    </tr>\n",
       "  </thead>\n",
       "  <tbody>\n",
       "    <tr>\n",
       "      <th>0</th>\n",
       "      <td>65+</td>\n",
       "      <td>A</td>\n",
       "      <td>35-49K</td>\n",
       "      <td>Homeowner</td>\n",
       "      <td>2 Adults No Kids</td>\n",
       "      <td>2</td>\n",
       "      <td>None/Unknown</td>\n",
       "      <td>1</td>\n",
       "    </tr>\n",
       "    <tr>\n",
       "      <th>1</th>\n",
       "      <td>45-54</td>\n",
       "      <td>A</td>\n",
       "      <td>50-74K</td>\n",
       "      <td>Homeowner</td>\n",
       "      <td>2 Adults No Kids</td>\n",
       "      <td>2</td>\n",
       "      <td>None/Unknown</td>\n",
       "      <td>7</td>\n",
       "    </tr>\n",
       "    <tr>\n",
       "      <th>2</th>\n",
       "      <td>25-34</td>\n",
       "      <td>U</td>\n",
       "      <td>25-34K</td>\n",
       "      <td>Unknown</td>\n",
       "      <td>2 Adults Kids</td>\n",
       "      <td>3</td>\n",
       "      <td>1</td>\n",
       "      <td>8</td>\n",
       "    </tr>\n",
       "  </tbody>\n",
       "</table>\n",
       "</div>"
      ],
      "text/plain": [
       "  age_desc marital_status_code income_desc homeowner_desc      hh_comp_desc  \\\n",
       "0      65+                   A      35-49K      Homeowner  2 Adults No Kids   \n",
       "1    45-54                   A      50-74K      Homeowner  2 Adults No Kids   \n",
       "2    25-34                   U      25-34K        Unknown     2 Adults Kids   \n",
       "\n",
       "  household_size_desc kid_category_desc  user_id  \n",
       "0                   2      None/Unknown        1  \n",
       "1                   2      None/Unknown        7  \n",
       "2                   3                 1        8  "
      ]
     },
     "execution_count": 8,
     "metadata": {},
     "output_type": "execute_result"
    }
   ],
   "source": [
    "user_features.head(3)"
   ]
  },
  {
   "cell_type": "markdown",
   "id": "c7ef3765",
   "metadata": {},
   "source": [
    "#### Добавим номера дней недели"
   ]
  },
  {
   "cell_type": "code",
   "execution_count": 9,
   "id": "7ba2dbfb",
   "metadata": {},
   "outputs": [],
   "source": [
    "week_day = {'week_day': []}\n",
    "# считаем номер недели, поле чего вычисляем записи с номером дня. \n",
    "# определяем номер дня соответствуующий номеру последнему дню недели и после этого начинаем вычетать из него.\n",
    "# номера дней. \n",
    "max_week_no = data['week_no'].max()\n",
    "min_week_no = data['week_no'].min()\n",
    "\n",
    "week_days=[]\n",
    "for week_no in range(min_week_no,max_week_no + 1):\n",
    "    max_day_in_week = data.loc[(data['week_no']==week_no),'day'].max()\n",
    "    days = data.loc[(data['week_no']==week_no),'day']\n",
    "    for day in days:\n",
    "        week_days.append(day-max_day_in_week+7)\n",
    "\n",
    "data['week_day'] = week_days"
   ]
  },
  {
   "cell_type": "markdown",
   "id": "95c1f908",
   "metadata": {},
   "source": [
    "#### Разделение датасета на тренировочную, тестовую и валидационную выборки."
   ]
  },
  {
   "cell_type": "code",
   "execution_count": 10,
   "id": "3fe78755",
   "metadata": {},
   "outputs": [
    {
     "data": {
      "text/html": [
       "<div>\n",
       "<style scoped>\n",
       "    .dataframe tbody tr th:only-of-type {\n",
       "        vertical-align: middle;\n",
       "    }\n",
       "\n",
       "    .dataframe tbody tr th {\n",
       "        vertical-align: top;\n",
       "    }\n",
       "\n",
       "    .dataframe thead th {\n",
       "        text-align: right;\n",
       "    }\n",
       "</style>\n",
       "<table border=\"1\" class=\"dataframe\">\n",
       "  <thead>\n",
       "    <tr style=\"text-align: right;\">\n",
       "      <th></th>\n",
       "      <th>user_id</th>\n",
       "      <th>basket_id</th>\n",
       "      <th>day</th>\n",
       "      <th>item_id</th>\n",
       "      <th>quantity</th>\n",
       "      <th>sales_value</th>\n",
       "      <th>store_id</th>\n",
       "      <th>retail_disc</th>\n",
       "      <th>trans_time</th>\n",
       "      <th>week_no</th>\n",
       "      <th>coupon_disc</th>\n",
       "      <th>coupon_match_disc</th>\n",
       "      <th>week_day</th>\n",
       "    </tr>\n",
       "  </thead>\n",
       "  <tbody>\n",
       "    <tr>\n",
       "      <th>0</th>\n",
       "      <td>2375</td>\n",
       "      <td>26984851472</td>\n",
       "      <td>1</td>\n",
       "      <td>1004906</td>\n",
       "      <td>1</td>\n",
       "      <td>1.39</td>\n",
       "      <td>364</td>\n",
       "      <td>-0.6</td>\n",
       "      <td>1631</td>\n",
       "      <td>1</td>\n",
       "      <td>0.0</td>\n",
       "      <td>0.0</td>\n",
       "      <td>3</td>\n",
       "    </tr>\n",
       "    <tr>\n",
       "      <th>1</th>\n",
       "      <td>2375</td>\n",
       "      <td>26984851472</td>\n",
       "      <td>1</td>\n",
       "      <td>1033142</td>\n",
       "      <td>1</td>\n",
       "      <td>0.82</td>\n",
       "      <td>364</td>\n",
       "      <td>0.0</td>\n",
       "      <td>1631</td>\n",
       "      <td>1</td>\n",
       "      <td>0.0</td>\n",
       "      <td>0.0</td>\n",
       "      <td>3</td>\n",
       "    </tr>\n",
       "  </tbody>\n",
       "</table>\n",
       "</div>"
      ],
      "text/plain": [
       "   user_id    basket_id  day  item_id  quantity  sales_value  store_id  \\\n",
       "0     2375  26984851472    1  1004906         1         1.39       364   \n",
       "1     2375  26984851472    1  1033142         1         0.82       364   \n",
       "\n",
       "   retail_disc  trans_time  week_no  coupon_disc  coupon_match_disc  week_day  \n",
       "0         -0.6        1631        1          0.0                0.0         3  \n",
       "1          0.0        1631        1          0.0                0.0         3  "
      ]
     },
     "execution_count": 10,
     "metadata": {},
     "output_type": "execute_result"
    }
   ],
   "source": [
    "# Cхема обучения и валидации!\n",
    "# -- давние покупки -- | -- 6 недель -- | -- 3 недель -- \n",
    "# подобрать размер 2-ого датасета (6 недель) --> learning curve (зависимость метрики recall@k от размера датасета)\n",
    "\n",
    "val_lvl_1_size_weeks = 6\n",
    "val_lvl_2_size_weeks = 3\n",
    "\n",
    "data_train_lvl_1 = data[data['week_no'] < data['week_no'].max() - (val_lvl_1_size_weeks + val_lvl_2_size_weeks)]\n",
    "data_val_lvl_1 = data[(data['week_no'] >= data['week_no'].max() - (val_lvl_1_size_weeks + val_lvl_2_size_weeks)) &\n",
    "                      (data['week_no'] < data['week_no'].max() - (val_lvl_2_size_weeks))]\n",
    "\n",
    "data_train_lvl_2 = data_val_lvl_1.copy()  # Для наглядности. Далее мы добавим изменения, и они будут отличаться\n",
    "data_val_lvl_2 = data[data['week_no'] >= data['week_no'].max() - val_lvl_2_size_weeks]\n",
    "\n",
    "data_train_lvl_1.head(2)"
   ]
  },
  {
   "cell_type": "markdown",
   "id": "2ade6a5c",
   "metadata": {},
   "source": [
    "#### Предварительная фильтрация данных"
   ]
  },
  {
   "cell_type": "code",
   "execution_count": 11,
   "id": "680ab3b5",
   "metadata": {},
   "outputs": [],
   "source": [
    "def prefilter_items(data, take_n_popular=5000, item_features=None):\n",
    "    # Уберем самые популярные товары (их и так купят)\n",
    "    popularity = data.groupby('item_id')['user_id'].nunique().reset_index() / data['user_id'].nunique()\n",
    "    popularity.rename(columns={'user_id': 'share_unique_users'}, inplace=True)\n",
    "\n",
    "    top_popular = popularity[popularity['share_unique_users'] > 0.2].item_id.tolist()\n",
    "    data = data[~data['item_id'].isin(top_popular)]\n",
    "\n",
    "    # Уберем самые НЕ популярные товары (их и так НЕ купят)\n",
    "    top_notpopular = popularity[popularity['share_unique_users'] < 0.02].item_id.tolist()\n",
    "    data = data[~data['item_id'].isin(top_notpopular)]\n",
    "\n",
    "    # Уберем товары, которые не продавались за последние 12 месяцев\n",
    "\n",
    "    # Уберем не интересные для рекоммендаций категории (department)\n",
    "    if item_features is not None:\n",
    "        department_size = pd.DataFrame(item_features.\\\n",
    "                                        groupby('department')['item_id'].nunique().\\\n",
    "                                        sort_values(ascending=False)).reset_index()\n",
    "\n",
    "        department_size.columns = ['department', 'n_items']\n",
    "        rare_departments = department_size[department_size['n_items'] < 150].department.tolist()\n",
    "        items_in_rare_departments = item_features[item_features['department'].isin(rare_departments)].item_id.unique().tolist()\n",
    "\n",
    "        data = data[~data['item_id'].isin(items_in_rare_departments)]\n",
    "\n",
    "\n",
    "    # Уберем слишком дешевые товары (на них не заработаем). 1 покупка из рассылок стоит 60 руб.\n",
    "    data['price'] = data['sales_value'] / (np.maximum(data['quantity'], 1))\n",
    "    data = data[data['price'] > 2]\n",
    "\n",
    "    # Уберем слишком дорогие товарыs\n",
    "    data = data[data['price'] < 50]\n",
    "\n",
    "    # Возбмем топ по популярности\n",
    "    popularity = data.groupby('item_id')['quantity'].sum().reset_index()\n",
    "    popularity.rename(columns={'quantity': 'n_sold'}, inplace=True)\n",
    "\n",
    "    top = popularity.sort_values('n_sold', ascending=False).head(take_n_popular).item_id.tolist()\n",
    "    \n",
    "    # Заведем фиктивный item_id (если юзер покупал товары из топ-5000, то он \"купил\" такой товар)\n",
    "    data.loc[~data['item_id'].isin(top), 'item_id'] = 999999\n",
    "    \n",
    "    # ...\n",
    "\n",
    "    return data\n",
    "\n",
    "\n",
    "def postfilter_items(user_id, recommednations):\n",
    "    pass"
   ]
  },
  {
   "cell_type": "code",
   "execution_count": 12,
   "id": "6f84475f",
   "metadata": {},
   "outputs": [
    {
     "name": "stdout",
     "output_type": "stream",
     "text": [
      "Decreased # items from 83685 to 5001\n"
     ]
    }
   ],
   "source": [
    "n_items_before = data_train_lvl_1['item_id'].nunique()\n",
    "\n",
    "data_train_lvl_1 = prefilter_items(data_train_lvl_1, item_features=item_features, take_n_popular=top_items_count)\n",
    "\n",
    "n_items_after = data_train_lvl_1['item_id'].nunique()\n",
    "print('Decreased # items from {} to {}'.format(n_items_before, n_items_after))"
   ]
  },
  {
   "cell_type": "code",
   "execution_count": 13,
   "id": "c3d6fec2",
   "metadata": {},
   "outputs": [],
   "source": [
    "def get_new_values(old_df, new_df,feature):\n",
    "    old_values = old_df[feature].unique()\n",
    "    new_values = new_df[feature].unique()\n",
    "    appended_values = []\n",
    "\n",
    "    for value  in new_values: \n",
    "        if value not in old_values:\n",
    "            appended_values.append(value)\n",
    "        \n",
    "    appended_values = np.unique(appended_values)\n",
    "    return appended_values"
   ]
  },
  {
   "cell_type": "code",
   "execution_count": 14,
   "id": "e4ec8eee",
   "metadata": {},
   "outputs": [
    {
     "name": "stdout",
     "output_type": "stream",
     "text": [
      "Изначальное к-во: users: 2495, items: 5001\n",
      "1-й уровень  users: +3, items: +23180\n",
      "2-й уровень  users: +2, items: +20059\n"
     ]
    }
   ],
   "source": [
    "first_users_count = len(data_train_lvl_1['user_id'].unique()) \n",
    "first_items_count = len(data_train_lvl_1['item_id'].unique()) \n",
    "\n",
    "new_user_lvl_1 = get_new_values(data_train_lvl_1, data_train_lvl_2 ,'user_id')\n",
    "new_items_lvl_1 = get_new_values(data_train_lvl_1, data_train_lvl_2 ,'item_id')\n",
    "\n",
    "new_user_lvl_2 = get_new_values(data_train_lvl_1, data_val_lvl_2 ,'user_id')\n",
    "new_items_lvl_2 = get_new_values(data_train_lvl_1, data_val_lvl_2 ,'item_id')\n",
    "\n",
    "print(f'Изначальное к-во: users: {first_users_count}, items: {first_items_count}')\n",
    "print(f'1-й уровень  users: +{len(new_user_lvl_1)}, items: +{len(new_items_lvl_1)}')\n",
    "print(f'2-й уровень  users: +{len(new_user_lvl_2)}, items: +{len(new_items_lvl_2)}')"
   ]
  },
  {
   "cell_type": "markdown",
   "id": "52d6fd74",
   "metadata": {},
   "source": [
    "#### Добавление фитчей"
   ]
  },
  {
   "cell_type": "code",
   "execution_count": 15,
   "id": "9b293cb5",
   "metadata": {},
   "outputs": [],
   "source": [
    "data_gr = data.groupby('basket_id').mean()"
   ]
  },
  {
   "cell_type": "code",
   "execution_count": 16,
   "id": "ddcf8ea1",
   "metadata": {},
   "outputs": [],
   "source": [
    "# Среднее к-во покупаемых товаров.\n",
    "user_features['median_quantity'] = user_features['user_id'].apply(lambda x: \n",
    "                                data_gr.loc[(data_gr['user_id']==x),'quantity'].median())\n",
    "\n",
    "# Средний чек.                                \n",
    "user_features['mean_sales_value'] = user_features['user_id'].apply(lambda x: \n",
    "                                data_gr.loc[(data_gr['user_id']==x),'sales_value'].mean())"
   ]
  },
  {
   "cell_type": "code",
   "execution_count": 17,
   "id": "da41e53b",
   "metadata": {},
   "outputs": [],
   "source": [
    "#  Среднее к-во раз в неделю, которое user ходит в магазин.\n",
    "\n",
    "for i in [1,2,3,4,5,6,7]:\n",
    "    data_gr[f\"day_{i}\"] = np.where((data_gr['week_day'] == i),1,0)\n",
    "    \n",
    "week_count = data['week_no'].max()\n",
    "#-----------------------------------------------\n",
    "def mean_quantity_in_week(user_id):\n",
    "    days = 0\n",
    "    for i in [1,2,3,4,5,6,7]:\n",
    "       days += data_gr.loc[(data_gr['user_id']==user_id),f'day_{i}'].sum()\n",
    "    days /=week_count\n",
    "    return int(np.round(days))\n",
    "\n",
    "#-----------------------------------------------    \n",
    "user_features['mean_quantity_in_week'] = user_features['user_id'].apply(lambda x: mean_quantity_in_week(x))"
   ]
  },
  {
   "cell_type": "code",
   "execution_count": 18,
   "id": "704b1b6d",
   "metadata": {},
   "outputs": [
    {
     "data": {
      "text/html": [
       "<div>\n",
       "<style scoped>\n",
       "    .dataframe tbody tr th:only-of-type {\n",
       "        vertical-align: middle;\n",
       "    }\n",
       "\n",
       "    .dataframe tbody tr th {\n",
       "        vertical-align: top;\n",
       "    }\n",
       "\n",
       "    .dataframe thead th {\n",
       "        text-align: right;\n",
       "    }\n",
       "</style>\n",
       "<table border=\"1\" class=\"dataframe\">\n",
       "  <thead>\n",
       "    <tr style=\"text-align: right;\">\n",
       "      <th></th>\n",
       "      <th>age_desc</th>\n",
       "      <th>marital_status_code</th>\n",
       "      <th>income_desc</th>\n",
       "      <th>homeowner_desc</th>\n",
       "      <th>hh_comp_desc</th>\n",
       "      <th>household_size_desc</th>\n",
       "      <th>kid_category_desc</th>\n",
       "      <th>user_id</th>\n",
       "      <th>median_quantity</th>\n",
       "      <th>mean_sales_value</th>\n",
       "      <th>mean_quantity_in_week</th>\n",
       "    </tr>\n",
       "  </thead>\n",
       "  <tbody>\n",
       "    <tr>\n",
       "      <th>0</th>\n",
       "      <td>65+</td>\n",
       "      <td>A</td>\n",
       "      <td>35-49K</td>\n",
       "      <td>Homeowner</td>\n",
       "      <td>2 Adults No Kids</td>\n",
       "      <td>2</td>\n",
       "      <td>None/Unknown</td>\n",
       "      <td>1</td>\n",
       "      <td>1.100000</td>\n",
       "      <td>2.726818</td>\n",
       "      <td>1</td>\n",
       "    </tr>\n",
       "    <tr>\n",
       "      <th>1</th>\n",
       "      <td>45-54</td>\n",
       "      <td>A</td>\n",
       "      <td>50-74K</td>\n",
       "      <td>Homeowner</td>\n",
       "      <td>2 Adults No Kids</td>\n",
       "      <td>2</td>\n",
       "      <td>None/Unknown</td>\n",
       "      <td>7</td>\n",
       "      <td>1.181818</td>\n",
       "      <td>2.989986</td>\n",
       "      <td>1</td>\n",
       "    </tr>\n",
       "  </tbody>\n",
       "</table>\n",
       "</div>"
      ],
      "text/plain": [
       "  age_desc marital_status_code income_desc homeowner_desc      hh_comp_desc  \\\n",
       "0      65+                   A      35-49K      Homeowner  2 Adults No Kids   \n",
       "1    45-54                   A      50-74K      Homeowner  2 Adults No Kids   \n",
       "\n",
       "  household_size_desc kid_category_desc  user_id  median_quantity  \\\n",
       "0                   2      None/Unknown        1         1.100000   \n",
       "1                   2      None/Unknown        7         1.181818   \n",
       "\n",
       "   mean_sales_value  mean_quantity_in_week  \n",
       "0          2.726818                      1  \n",
       "1          2.989986                      1  "
      ]
     },
     "execution_count": 18,
     "metadata": {},
     "output_type": "execute_result"
    }
   ],
   "source": [
    "user_features.head(2)"
   ]
  },
  {
   "cell_type": "markdown",
   "id": "13933406",
   "metadata": {},
   "source": [
    "#### Приведение категориальных фитчей к числовому типу"
   ]
  },
  {
   "cell_type": "code",
   "execution_count": 19,
   "id": "c04f1564",
   "metadata": {},
   "outputs": [
    {
     "name": "stdout",
     "output_type": "stream",
     "text": [
      "income_desc\n",
      "['35-49K' '50-74K' '25-34K' '75-99K' 'Under 15K' '100-124K' '15-24K'\n",
      " '125-149K' '150-174K' '250K+' '175-199K' '200-249K']\n",
      "--------------------\n",
      "age_desc\n",
      "['65+' '45-54' '25-34' '35-44' '19-24' '55-64']\n",
      "--------------------\n",
      "homeowner_desc\n",
      "['Homeowner' 'Unknown' 'Renter' 'Probable Renter' 'Probable Owner']\n",
      "--------------------\n",
      "kid_category_desc\n",
      "['None/Unknown' '1' '2' '3+']\n",
      "--------------------\n",
      "household_size_desc\n",
      "['2' '3' '4' '1' '5+']\n",
      "--------------------\n",
      "hh_comp_desc\n",
      "['2 Adults No Kids' '2 Adults Kids' 'Single Female' 'Unknown'\n",
      " 'Single Male' '1 Adult Kids']\n",
      "--------------------\n"
     ]
    }
   ],
   "source": [
    "### Список категориальных фитчей ктороые мы будем разбирать\n",
    "features=['income_desc','age_desc','homeowner_desc','kid_category_desc','household_size_desc','hh_comp_desc']\n",
    "for feature_name in features:\n",
    "    print(feature_name)\n",
    "    print(user_features[feature_name].unique())\n",
    "    print('-'*20)"
   ]
  },
  {
   "cell_type": "code",
   "execution_count": 20,
   "id": "b274943a",
   "metadata": {},
   "outputs": [],
   "source": [
    "income_desc = {'35-49K':42, '50-74K':62, '25-34K':30, '75-99K':87, 'Under 15K':15, '100-124K':112,\n",
    "       '15-24K':20, '125-149K':137, '150-174K':162, '250K+':250, '175-199K':187, '200-249K':225}\n",
    "       \n",
    "user_features['income_desc'] = user_features['income_desc'].apply(lambda x: income_desc[x]) \n",
    "\n",
    "age_desc = {'65+':65, '45-54':50, '25-34':30, '35-44':40, '19-24':21, '55-64':60}\t\n",
    "\n",
    "user_features['age_desc'] = user_features['age_desc'].apply(lambda x: age_desc[x])"
   ]
  },
  {
   "cell_type": "code",
   "execution_count": 21,
   "id": "1400aa65",
   "metadata": {},
   "outputs": [],
   "source": [
    "household_size_desc = {np.nan: 0, '1':1, '2':2, '3':3, '4':4, '5+':5 }\n",
    "\n",
    "user_features['household_size_desc'] = user_features['household_size_desc'].apply(lambda x: household_size_desc[x])"
   ]
  },
  {
   "cell_type": "code",
   "execution_count": 22,
   "id": "1df47dfc",
   "metadata": {},
   "outputs": [],
   "source": [
    "kid_category_desc = {'None/Unknown':0, np.nan: 0, '1':1, '2':2, '3+':3 }\n",
    "\n",
    "user_features['kid_category_desc'] = user_features['kid_category_desc'].apply(lambda x: kid_category_desc[x])"
   ]
  },
  {
   "cell_type": "code",
   "execution_count": 23,
   "id": "5b868764",
   "metadata": {},
   "outputs": [],
   "source": [
    "user_features[['hh_comp_desc_female', 'hh_comp_desc_male', 'hh_comp_desc_Adults_Kids']] = 0\n",
    "user_features['hh_comp_desc_female'] = np.where((user_features['hh_comp_desc'] !='Single Male'), 1, 0)\n",
    "user_features['hh_comp_desc_male'] = np.where((user_features['hh_comp_desc'] !='Single Female'), 1, 0)\n",
    "user_features.loc[(user_features['hh_comp_desc']=='2 Adults Kids'), 'hh_comp_desc_Adults_Kids'] = 2\n",
    "user_features.loc[(user_features['hh_comp_desc']=='1 Adult Kids'), 'hh_comp_desc_Adults_Kids'] = 1\n",
    "user_features.loc[(user_features['hh_comp_desc'].isna()), ['hh_comp_desc_female','hh_comp_desc_male']] = 0\n",
    "user_features.loc[(user_features['hh_comp_desc']=='Unknown'), ['hh_comp_desc_female','hh_comp_desc_male']] = 0\n",
    "user_features.drop('hh_comp_desc', axis=1, inplace=True)"
   ]
  },
  {
   "cell_type": "code",
   "execution_count": 24,
   "id": "8f929fee",
   "metadata": {},
   "outputs": [
    {
     "data": {
      "text/html": [
       "<div>\n",
       "<style scoped>\n",
       "    .dataframe tbody tr th:only-of-type {\n",
       "        vertical-align: middle;\n",
       "    }\n",
       "\n",
       "    .dataframe tbody tr th {\n",
       "        vertical-align: top;\n",
       "    }\n",
       "\n",
       "    .dataframe thead th {\n",
       "        text-align: right;\n",
       "    }\n",
       "</style>\n",
       "<table border=\"1\" class=\"dataframe\">\n",
       "  <thead>\n",
       "    <tr style=\"text-align: right;\">\n",
       "      <th></th>\n",
       "      <th>age_desc</th>\n",
       "      <th>marital_status_code</th>\n",
       "      <th>income_desc</th>\n",
       "      <th>homeowner_desc</th>\n",
       "      <th>household_size_desc</th>\n",
       "      <th>kid_category_desc</th>\n",
       "      <th>user_id</th>\n",
       "      <th>median_quantity</th>\n",
       "      <th>mean_sales_value</th>\n",
       "      <th>mean_quantity_in_week</th>\n",
       "      <th>hh_comp_desc_female</th>\n",
       "      <th>hh_comp_desc_male</th>\n",
       "      <th>hh_comp_desc_Adults_Kids</th>\n",
       "    </tr>\n",
       "  </thead>\n",
       "  <tbody>\n",
       "    <tr>\n",
       "      <th>0</th>\n",
       "      <td>65</td>\n",
       "      <td>A</td>\n",
       "      <td>42</td>\n",
       "      <td>Homeowner</td>\n",
       "      <td>2</td>\n",
       "      <td>0</td>\n",
       "      <td>1</td>\n",
       "      <td>1.100000</td>\n",
       "      <td>2.726818</td>\n",
       "      <td>1</td>\n",
       "      <td>1</td>\n",
       "      <td>1</td>\n",
       "      <td>0</td>\n",
       "    </tr>\n",
       "    <tr>\n",
       "      <th>1</th>\n",
       "      <td>50</td>\n",
       "      <td>A</td>\n",
       "      <td>62</td>\n",
       "      <td>Homeowner</td>\n",
       "      <td>2</td>\n",
       "      <td>0</td>\n",
       "      <td>7</td>\n",
       "      <td>1.181818</td>\n",
       "      <td>2.989986</td>\n",
       "      <td>1</td>\n",
       "      <td>1</td>\n",
       "      <td>1</td>\n",
       "      <td>0</td>\n",
       "    </tr>\n",
       "  </tbody>\n",
       "</table>\n",
       "</div>"
      ],
      "text/plain": [
       "   age_desc marital_status_code  income_desc homeowner_desc  \\\n",
       "0        65                   A           42      Homeowner   \n",
       "1        50                   A           62      Homeowner   \n",
       "\n",
       "   household_size_desc  kid_category_desc  user_id  median_quantity  \\\n",
       "0                    2                  0        1         1.100000   \n",
       "1                    2                  0        7         1.181818   \n",
       "\n",
       "   mean_sales_value  mean_quantity_in_week  hh_comp_desc_female  \\\n",
       "0          2.726818                      1                    1   \n",
       "1          2.989986                      1                    1   \n",
       "\n",
       "   hh_comp_desc_male  hh_comp_desc_Adults_Kids  \n",
       "0                  1                         0  \n",
       "1                  1                         0  "
      ]
     },
     "execution_count": 24,
     "metadata": {},
     "output_type": "execute_result"
    }
   ],
   "source": [
    "user_features.head(2)"
   ]
  },
  {
   "cell_type": "code",
   "execution_count": 25,
   "id": "33bde9ba",
   "metadata": {},
   "outputs": [
    {
     "data": {
      "text/html": [
       "<div>\n",
       "<style scoped>\n",
       "    .dataframe tbody tr th:only-of-type {\n",
       "        vertical-align: middle;\n",
       "    }\n",
       "\n",
       "    .dataframe tbody tr th {\n",
       "        vertical-align: top;\n",
       "    }\n",
       "\n",
       "    .dataframe thead th {\n",
       "        text-align: right;\n",
       "    }\n",
       "</style>\n",
       "<table border=\"1\" class=\"dataframe\">\n",
       "  <thead>\n",
       "    <tr style=\"text-align: right;\">\n",
       "      <th></th>\n",
       "      <th>item_id</th>\n",
       "      <th>manufacturer</th>\n",
       "      <th>department</th>\n",
       "      <th>brand</th>\n",
       "      <th>commodity_desc</th>\n",
       "      <th>sub_commodity_desc</th>\n",
       "      <th>curr_size_of_product</th>\n",
       "    </tr>\n",
       "  </thead>\n",
       "  <tbody>\n",
       "    <tr>\n",
       "      <th>0</th>\n",
       "      <td>25671</td>\n",
       "      <td>2</td>\n",
       "      <td>GROCERY</td>\n",
       "      <td>National</td>\n",
       "      <td>FRZN ICE</td>\n",
       "      <td>ICE - CRUSHED/CUBED</td>\n",
       "      <td>22 LB</td>\n",
       "    </tr>\n",
       "    <tr>\n",
       "      <th>1</th>\n",
       "      <td>26081</td>\n",
       "      <td>2</td>\n",
       "      <td>MISC. TRANS.</td>\n",
       "      <td>National</td>\n",
       "      <td>NO COMMODITY DESCRIPTION</td>\n",
       "      <td>NO SUBCOMMODITY DESCRIPTION</td>\n",
       "      <td></td>\n",
       "    </tr>\n",
       "  </tbody>\n",
       "</table>\n",
       "</div>"
      ],
      "text/plain": [
       "   item_id  manufacturer    department     brand            commodity_desc  \\\n",
       "0    25671             2       GROCERY  National                  FRZN ICE   \n",
       "1    26081             2  MISC. TRANS.  National  NO COMMODITY DESCRIPTION   \n",
       "\n",
       "            sub_commodity_desc curr_size_of_product  \n",
       "0          ICE - CRUSHED/CUBED                22 LB  \n",
       "1  NO SUBCOMMODITY DESCRIPTION                       "
      ]
     },
     "execution_count": 25,
     "metadata": {},
     "output_type": "execute_result"
    }
   ],
   "source": [
    "item_features.head(2)"
   ]
  },
  {
   "cell_type": "markdown",
   "id": "60668481",
   "metadata": {},
   "source": [
    "#### Добавление фитчей Item-ов"
   ]
  },
  {
   "cell_type": "code",
   "execution_count": 26,
   "id": "2f0db191",
   "metadata": {},
   "outputs": [],
   "source": [
    "item_features_temp = item_features.merge(data, on='item_id', how='left')"
   ]
  },
  {
   "cell_type": "code",
   "execution_count": 27,
   "id": "02286ea0",
   "metadata": {},
   "outputs": [],
   "source": [
    "# Средняя стоимость товара в категории.\n",
    "\n",
    "item_price = item_features_temp.groupby(['item_id','commodity_desc'])['sales_value'].mean().reset_index()\n",
    "item_price.columns= ['item_id','commodity_desc','sales_value']\n",
    "commoditys_desc = item_price['commodity_desc'].unique()\n",
    "\n",
    "item_price['commodity_desc_mean_sale']=np.NaN\n",
    "\n",
    "for commodity_desc in commoditys_desc:\n",
    "    mean_value = item_price.loc[(item_price['commodity_desc']==commodity_desc),'sales_value'].mean()\n",
    "    item_price.loc[(item_price['commodity_desc']==commodity_desc),'commodity_desc_mean_sale'] = mean_value\n",
    "\n",
    "item_price.loc[(item_price['commodity_desc']=='NO COMMODITY DESCRIPTION'),'sales_value']\n",
    "\n",
    "item_features = item_features.merge(item_price[['item_id','commodity_desc_mean_sale']], on='item_id',how='left')"
   ]
  },
  {
   "cell_type": "code",
   "execution_count": 28,
   "id": "9754adb2",
   "metadata": {},
   "outputs": [],
   "source": [
    "# К-во покупок в неделю.\n",
    "quantity_count = item_features_temp.groupby(['item_id'])['quantity'].sum().reset_index()\n",
    "\n",
    "quantity_count.columns = ['item_id','quantity']\n",
    "\n",
    "quantity_in_week = item_features_temp.groupby(['item_id'])['week_no'].unique().reset_index()\n",
    "\n",
    "quantity_in_week.columns = ['item_id','weeks']\n",
    "\n",
    "quantity_in_week['weeks_count'] = quantity_in_week['weeks'].apply(lambda x: len(x))\n",
    "\n",
    "quantity_in_week['sale_in_week'] = quantity_count['quantity']/quantity_in_week['weeks_count']  \n",
    "\n",
    "item_features = item_features.merge(quantity_in_week[['item_id','sale_in_week']], on='item_id',how='left')"
   ]
  },
  {
   "cell_type": "code",
   "execution_count": 29,
   "id": "eff3631b",
   "metadata": {},
   "outputs": [],
   "source": [
    "# Для работы с матрицами\n",
    "from scipy.sparse import csr_matrix\n",
    "\n",
    "# Матричная факторизация\n",
    "from implicit.als import AlternatingLeastSquares\n",
    "from implicit.nearest_neighbours import ItemItemRecommender  # нужен для одного трюка\n",
    "from implicit.nearest_neighbours import bm25_weight, tfidf_weight\n",
    "\n",
    "\n",
    "class MainRecommender:\n",
    "    \"\"\"Рекоммендации, которые можно получить из ALS\n",
    "\n",
    "    Input\n",
    "    -----\n",
    "    user_item_matrix: pd.DataFrame\n",
    "        Матрица взаимодействий user-item\n",
    "    \"\"\"\n",
    "\n",
    "    def __init__(self, data, weighting=True):\n",
    "        \n",
    "        # Топ покупок каждого юзера\n",
    "        self.top_purchases = data.groupby(['user_id', 'item_id'])['quantity'].count().reset_index()\n",
    "        self.top_purchases.sort_values('quantity', ascending=False, inplace=True) # Это к-во покупок.\n",
    "        self.top_purchases = self.top_purchases[self.top_purchases['item_id'] != 999999] # исключим из ТОП-а покупок item_id = 999999\n",
    "\n",
    "        # Топ покупок по всему датасету\n",
    "        self.overall_top_purchases = data.groupby('item_id')['quantity'].count().reset_index()\n",
    "        self.overall_top_purchases.sort_values('quantity', ascending=False, inplace=True)\n",
    "        self.overall_top_purchases = self.overall_top_purchases[self.overall_top_purchases['item_id'] != 999999] # исключим из ТОП-а покупок item_id = 999999\n",
    "        self.overall_top_purchases = self.overall_top_purchases.item_id.tolist()\n",
    "\n",
    "        self.user_item_matrix = self._prepare_matrix(data)  # pd.DataFrame\n",
    "        self.id_to_itemid, self.id_to_userid, \\\n",
    "            self.itemid_to_id, self.userid_to_id = self._prepare_dicts(self.user_item_matrix)\n",
    "\n",
    "        if weighting:\n",
    "            self.user_item_matrix = bm25_weight(self.user_item_matrix.T).T # настроить параметры взвешивния. \n",
    "\n",
    "        self.als_model = self.fit(self.user_item_matrix)\n",
    "        self.own_recommender_model = self.fit_own_recommender(self.user_item_matrix)\n",
    "\n",
    "    @staticmethod\n",
    "    def _prepare_matrix(data):\n",
    "        \"\"\"Готовит user-item матрицу\"\"\"\n",
    "        user_item_matrix = pd.pivot_table(data,\n",
    "                                          index='user_id', \n",
    "                                          columns='item_id',\n",
    "                                          values='quantity',  # Можно пробовать другие варианты\n",
    "                                          aggfunc='mean',\n",
    "                                          fill_value=0\n",
    "                                          )\n",
    "\n",
    "        user_item_matrix = user_item_matrix.astype(float)  # необходимый тип матрицы для implicit\n",
    "\n",
    "        return user_item_matrix\n",
    "\n",
    "    @staticmethod\n",
    "    def _prepare_dicts(user_item_matrix):\n",
    "        \"\"\"Подготавливает вспомогательные словари\"\"\"\n",
    "\n",
    "        userids = user_item_matrix.index.values\n",
    "        itemids = user_item_matrix.columns.values\n",
    "\n",
    "        matrix_userids = np.arange(len(userids))\n",
    "        matrix_itemids = np.arange(len(itemids))\n",
    "\n",
    "        id_to_itemid = dict(zip(matrix_itemids, itemids))\n",
    "        id_to_userid = dict(zip(matrix_userids, userids))\n",
    "\n",
    "        itemid_to_id = dict(zip(itemids, matrix_itemids))\n",
    "        userid_to_id = dict(zip(userids, matrix_userids))\n",
    "\n",
    "        return id_to_itemid, id_to_userid, itemid_to_id, userid_to_id\n",
    "\n",
    "    @staticmethod\n",
    "    def fit_own_recommender(user_item_matrix):\n",
    "        \"\"\"Обучает модель, которая рекомендует товары, среди товаров, купленных юзером\"\"\"\n",
    "\n",
    "        own_recommender = ItemItemRecommender(K=1, num_threads=4)\n",
    "        own_recommender.fit(csr_matrix(user_item_matrix).T.tocsr())\n",
    "\n",
    "        return own_recommender\n",
    "\n",
    "    @staticmethod\n",
    "    def fit(user_item_matrix, n_factors=30, regularization=0.001, iterations=15, num_threads=4):\n",
    "        \"\"\"Обучает ALS\"\"\"\n",
    "\n",
    "        model = AlternatingLeastSquares(factors=n_factors,\n",
    "                                        regularization=regularization,\n",
    "                                        iterations=iterations,\n",
    "                                        num_threads=num_threads, \n",
    "                                        random_state=0)\n",
    "\n",
    "        model.fit(csr_matrix(user_item_matrix).T.tocsr())\n",
    "\n",
    "        return model\n",
    "\n",
    "    def _update_dict(self, user_id):\n",
    "        \"\"\"Если появился новыю user / item, то нужно обновить словари\"\"\"\n",
    "\n",
    "        if user_id not in self.userid_to_id.keys():\n",
    "\n",
    "            max_id = max(list(self.userid_to_id.values()))\n",
    "            max_id += 1\n",
    "\n",
    "            self.userid_to_id.update({user_id: max_id})\n",
    "            self.id_to_userid.update({max_id: user_id})\n",
    "\n",
    "    def _get_similar_item(self, item_id):\n",
    "        \"\"\"Находит товар, похожий на item_id\"\"\"\n",
    "        recs = self.als_model.similar_items(self.itemid_to_id[item_id], N=2)  # Товар похож на себя -> рекомендуем 2 товара\n",
    "        top_rec = recs[1][0]  # И берем второй (не товар из аргумента метода)\n",
    "        return self.id_to_itemid[top_rec]\n",
    "\n",
    "    def _extend_with_als(self, user, recommendations, N=5):\n",
    "        \"\"\"Если кол-во рекоммендаций < N, то дополняем их топ-популярными\"\"\"\n",
    "\n",
    "        if len(recommendations) < N:\n",
    "            recommendations.extend(self.get_als_recommendations(user, N))\n",
    "            recommendations = recommendations[:N]\n",
    "\n",
    "        return recommendations\n",
    "\n",
    "    def get_top_popular(self, N=5):\n",
    "        \"\"\"Если кол-во рекоммендаций < N, то дополняем их топ-популярными\"\"\"\n",
    "        recommendations = self.overall_top_purchases[:N]\n",
    "\n",
    "        return recommendations\n",
    "\n",
    "    def _extend_with_top_popular(self, recommendations, N=5):\n",
    "        \"\"\"Если кол-во рекоммендаций < N, то дополняем их топ-популярными\"\"\"\n",
    "\n",
    "        if len(recommendations) < N:\n",
    "            recommendations.extend(self.overall_top_purchases[:N])\n",
    "            recommendations = recommendations[:N]\n",
    "\n",
    "        return recommendations\n",
    "\n",
    "    def _get_recommendations(self, user, model, N=5):\n",
    "        \"\"\"Рекомендации через стардартные библиотеки implicit\"\"\"\n",
    "        \n",
    "        self._update_dict(user_id=user)\n",
    "        \n",
    "        recs = model.recommend(userid=self.userid_to_id[user],\n",
    "                                        user_items=csr_matrix(self.user_item_matrix).tocsr(),\n",
    "                                        N=N,\n",
    "                                        filter_already_liked_items=False,\n",
    "                                        filter_items=[self.itemid_to_id[999999]],\n",
    "                                        recalculate_user=True)\n",
    "        \n",
    "        res = [self.id_to_itemid[rec[0]] for rec in recs]\n",
    "\n",
    "        # res = self._extend_with_top_popular(res, N=N)\n",
    "\n",
    "        #assert len(res) == N, 'Количество рекомендаций != {}'.format(N)\n",
    "        return res\n",
    "\n",
    "    def get_als_recommendations(self, user, N=5):\n",
    "        \"\"\"Рекомендации через стардартные библиотеки implicit\"\"\"\n",
    "\n",
    "        self._update_dict(user_id=user)\n",
    "        return self._get_recommendations(user, model=self.als_model, N=N)\n",
    "\n",
    "    def get_own_recommendations(self, user, N=5, extend_with_top_popular=False):\n",
    "        \"\"\"Рекомендуем товары среди тех, которые юзер уже купил\"\"\"\n",
    "\n",
    "        self._update_dict(user_id=user)\n",
    "        recs = self._get_recommendations(user, model=self.own_recommender_model, N=N)\n",
    "        if extend_with_top_popular:\n",
    "                # res = [self.id_to_itemid[rec[0]] for rec in recs]\n",
    "                recs = self._extend_with_top_popular(recs, N=N)\n",
    "        # assert len(recs) == N, 'Количество рекомендаций != {}'.format(N)\n",
    "        return recs\n",
    "\n",
    "    def get_similar_items_recommendation(self, user, N=5):\n",
    "        \"\"\"Рекомендуем товары, похожие на топ-N купленных юзером товаров\"\"\"\n",
    "\n",
    "        top_users_purchases = self.top_purchases[self.top_purchases['user_id'] == user].head(N)\n",
    "\n",
    "        res = top_users_purchases['item_id'].apply(lambda x: self._get_similar_item(x)).tolist()\n",
    "        res = self._extend_with_top_popular(res, N=N)\n",
    "\n",
    "        # assert len(res) == N, 'Количество рекомендаций != {}'.format(N)\n",
    "        return res\n",
    "\n",
    "    def get_similar_users_recommendation(self, user, N=5):\n",
    "        \"\"\"Рекомендуем топ-N товаров, среди купленных похожими юзерами\"\"\"\n",
    "        res = []\n",
    "        \n",
    "        # Находим топ-N похожих пользователей\n",
    "        similar_users = self.als_model.similar_users(self.userid_to_id[user], N=N+1)\n",
    "        similar_users = [rec[0] for rec in similar_users]\n",
    "        similar_users = similar_users[1:]   # удалим юзера из запроса\n",
    "\n",
    "        for user in similar_users:\n",
    "            userid = self.id_to_userid[user] #own recommender works with user_ids\n",
    "            res.extend(self.get_own_recommendations(userid, N=1))\n",
    "\n",
    "        res = self._extend_with_top_popular(res, N=N)\n",
    "\n",
    "        # assert len(res) == N, 'Количество рекомендаций != {}'.format(N)\n",
    "        return res"
   ]
  },
  {
   "cell_type": "code",
   "execution_count": 30,
   "id": "bb43c9ab",
   "metadata": {},
   "outputs": [
    {
     "name": "stderr",
     "output_type": "stream",
     "text": [
      "C:\\Users\\1\\anaconda3\\lib\\site-packages\\implicit\\utils.py:28: UserWarning: OpenBLAS detected. Its highly recommend to set the environment variable 'export OPENBLAS_NUM_THREADS=1' to disable its internal multithreading\n",
      "  warnings.warn(\n"
     ]
    },
    {
     "data": {
      "application/vnd.jupyter.widget-view+json": {
       "model_id": "10b7686a4f294f71b8b98e9679251fe9",
       "version_major": 2,
       "version_minor": 0
      },
      "text/plain": [
       "  0%|          | 0/15 [00:00<?, ?it/s]"
      ]
     },
     "metadata": {},
     "output_type": "display_data"
    },
    {
     "data": {
      "application/vnd.jupyter.widget-view+json": {
       "model_id": "39e652c032a340b2b81eee86f1a2a82b",
       "version_major": 2,
       "version_minor": 0
      },
      "text/plain": [
       "  0%|          | 0/2495 [00:00<?, ?it/s]"
      ]
     },
     "metadata": {},
     "output_type": "display_data"
    }
   ],
   "source": [
    "recommender = MainRecommender(data_train_lvl_1)"
   ]
  },
  {
   "cell_type": "code",
   "execution_count": 31,
   "id": "363403b1",
   "metadata": {},
   "outputs": [],
   "source": [
    "def perpare_lvl2_1(val_data, train_data, recommender, item_features, user_features, N=50):\n",
    "    # val_data = data_train_lvl_2.copy()\n",
    "    # train_data = data_train_lvl_1.copy()\n",
    "\n",
    "    users_warm = pd.DataFrame(val_data['user_id'].unique()) # Добавим туда еще фитчи user-ов и item-ов.\n",
    "    users_warm.columns = ['user_id']\n",
    "    # Пока только warm start\n",
    "    users_warm = users_warm[users_warm['user_id'].isin(train_data['user_id'].unique())]\n",
    "\n",
    "    users_cold = pd.DataFrame(val_data['user_id'].unique()) # Добавим туда еще фитчи user-ов и item-ов.\n",
    "    users_cold.columns = ['user_id']\n",
    "    # cold_start\n",
    "    users_cold = users_cold[~users_cold['user_id'].isin(users_warm['user_id'].unique())]\n",
    "\n",
    "    # Заполняем кандидатов, на основе предсказания модели 1-го уровня.\n",
    "    users_cold['candidates'] = users_cold['user_id'].apply(lambda x: recommender.get_top_popular(N=N))\n",
    "    s = users_cold.apply(lambda x: pd.Series(x['candidates']), axis=1).stack().reset_index(level=1, drop=True)\n",
    "    s.name = 'item_id'\n",
    "\n",
    "    # Это кандидаты. (т.е. предпологаемые покупки совершенные на основе предсказаний.)\n",
    "    users_cold = users_cold.drop('candidates', axis=1).join(s)\n",
    "    users_cold['drop'] = 1  # фиктивная переменная\n",
    "    # Заполняем кандидатов, на основе предсказания модели 1-го уровня.\n",
    "    users_warm['candidates'] = users_warm['user_id'].apply(lambda x: recommender.get_own_recommendations(x, N=N))\n",
    "    # test_users = data\n",
    "    s = users_warm.apply(lambda x: pd.Series(x['candidates']), axis=1).stack().reset_index(level=1, drop=True)\n",
    "    s.name = 'item_id'\n",
    "\n",
    "    # Это кандидаты. (т.е. предпологаемые покупки совершенные на основе предсказаний.)\n",
    "    users_warm = users_warm.drop('candidates', axis=1).join(s)\n",
    "    users_warm['drop'] = 1  # фиктивная переменная\n",
    "\n",
    "    # Создадим таблицу с реальными покупками user-ов. \n",
    "    targets = val_data[['user_id', 'item_id']].copy() # свойства \n",
    "    targets['target'] = 1  # тут только покупки\n",
    "\n",
    "    # Объединим предпологаемые покупки с реальными, совершенными user-ами.\n",
    "    targets_cold = users_cold.merge(targets, on=['user_id', 'item_id'], how='left')\n",
    "\n",
    "    # В результате, напротив товаров, в редсказании которых мы ошиблись, \n",
    "    # будет стоять Nan. Заполним их  нулями.  \n",
    "    targets_cold['target'].fillna(0, inplace= True)\n",
    "    targets_cold.drop('drop', axis=1, inplace=True)\n",
    "    # Добавим к нашему датасету фичи user-ов и item-ов.\n",
    "    targets_cold = targets_cold.merge(item_features, on='item_id', how='left')\n",
    "    targets_cold = targets_cold.merge(user_features, on='user_id', how='left')\n",
    "\n",
    "    # Объединим предпологаемые покупки с реальными, совершенными user-ами.\n",
    "    targets_warm = users_warm.merge(targets, on=['user_id', 'item_id'], how='left')\n",
    "\n",
    "    # В результате, напротив товаров, в редсказании которых мы ошиблись, \n",
    "    # будет стоять Nan. Заполним их  нулями.  \n",
    "    targets_warm['target'].fillna(0, inplace= True)\n",
    "    targets_warm.drop('drop', axis=1, inplace=True)\n",
    "    # targets_warm['target'].mean() #Угадали примерно 17% покупок.\n",
    "\n",
    "    # Добавим к нашему датасету фичи user-ов и item-ов.\n",
    "    targets_warm = targets_warm.merge(item_features, on='item_id', how='left')\n",
    "    targets_warm = targets_warm.merge(user_features, on='user_id', how='left')\n",
    "\n",
    "    targets_lvl_2 = pd.concat([targets_warm, targets_cold], ignore_index=True)\n",
    "\n",
    "    # X_ = targets_lvl_2.drop('target', axis=1)\n",
    "    # y_ = targets_lvl_2[['target']]\n",
    "\n",
    "    return  targets_lvl_2"
   ]
  },
  {
   "cell_type": "code",
   "execution_count": null,
   "id": "0622ffd1",
   "metadata": {},
   "outputs": [],
   "source": [
    "train_data = perpare_lvl2_1(data_train_lvl_2, data_train_lvl_1, recommender,item_features, user_features, N=N)"
   ]
  },
  {
   "cell_type": "code",
   "execution_count": null,
   "id": "9cdb4935",
   "metadata": {},
   "outputs": [],
   "source": [
    "X_train = train_data.drop('target', axis=1)\n",
    "y_train = train_data[['target']]"
   ]
  },
  {
   "cell_type": "code",
   "execution_count": null,
   "id": "704aef89",
   "metadata": {},
   "outputs": [],
   "source": [
    "test_data = perpare_lvl2_1(data_val_lvl_2, data_train_lvl_1, recommender, item_features, user_features, N=N)"
   ]
  },
  {
   "cell_type": "code",
   "execution_count": null,
   "id": "19750ea7",
   "metadata": {},
   "outputs": [],
   "source": [
    "X_test = test_data.drop('target', axis=1)\n",
    "y_test = test_data[['target']]"
   ]
  },
  {
   "cell_type": "code",
   "execution_count": null,
   "id": "ceca9887",
   "metadata": {},
   "outputs": [],
   "source": [
    "X_train.head(2)"
   ]
  },
  {
   "cell_type": "code",
   "execution_count": null,
   "id": "6dde3a47",
   "metadata": {},
   "outputs": [],
   "source": [
    "# Получим список катероиальных и числовых признаков.\n",
    "categorical = []\n",
    "numerical = []\n",
    "for col, value in X_train.iteritems():\n",
    "    if value.dtype == 'object':\n",
    "        categorical.append(col)\n",
    "    else:\n",
    "        numerical.append(col)"
   ]
  },
  {
   "cell_type": "code",
   "execution_count": null,
   "id": "35425c66",
   "metadata": {},
   "outputs": [],
   "source": [
    "print(categorical)"
   ]
  },
  {
   "cell_type": "code",
   "execution_count": null,
   "id": "2be75a73",
   "metadata": {},
   "outputs": [],
   "source": [
    "print(numerical)"
   ]
  },
  {
   "cell_type": "markdown",
   "id": "64c3eed6",
   "metadata": {},
   "source": [
    "#### Уберем признаки содержащие большое к-во категорий"
   ]
  },
  {
   "cell_type": "code",
   "execution_count": null,
   "id": "4ec785c0",
   "metadata": {},
   "outputs": [],
   "source": [
    "for feature in categorical:\n",
    " print(f'{feature}: {len(X_train[feature].unique())}')"
   ]
  },
  {
   "cell_type": "code",
   "execution_count": null,
   "id": "65fcb9b6",
   "metadata": {},
   "outputs": [],
   "source": [
    "features = ['commodity_desc', 'sub_commodity_desc', 'curr_size_of_product']\n",
    "X_train = X_train.drop(features, axis=1)\n",
    "X_test = X_test.drop(features, axis=1)"
   ]
  },
  {
   "cell_type": "code",
   "execution_count": null,
   "id": "e95fb04d",
   "metadata": {},
   "outputs": [],
   "source": [
    "print(X_train['department'].unique())"
   ]
  },
  {
   "cell_type": "code",
   "execution_count": null,
   "id": "2924a10e",
   "metadata": {},
   "outputs": [],
   "source": [
    "features = [ 'department',\n",
    "            'brand',\n",
    "            #'commodity_desc',\n",
    "            #'sub_commodity_desc',\n",
    "            #'curr_size_of_product',\n",
    "            'marital_status_code',\n",
    "            'homeowner_desc',\n",
    "            # 'hh_comp_desc',\n",
    "            # 'household_size_desc',\n",
    "            # 'kid_category_desc'\n",
    "           ]"
   ]
  },
  {
   "cell_type": "code",
   "execution_count": null,
   "id": "af929452",
   "metadata": {},
   "outputs": [],
   "source": [
    "X_train = category_to_digit(X_train, features)"
   ]
  },
  {
   "cell_type": "code",
   "execution_count": null,
   "id": "76d91a9f",
   "metadata": {},
   "outputs": [],
   "source": [
    "X_test = category_to_digit(X_test, features)"
   ]
  },
  {
   "cell_type": "code",
   "execution_count": null,
   "id": "8f363d28",
   "metadata": {},
   "outputs": [],
   "source": [
    "y_train.mean()"
   ]
  },
  {
   "cell_type": "code",
   "execution_count": null,
   "id": "e05a1053",
   "metadata": {},
   "outputs": [],
   "source": [
    "y_test.mean()"
   ]
  },
  {
   "cell_type": "markdown",
   "id": "e60a0d0e",
   "metadata": {},
   "source": [
    "#### Обучение модели"
   ]
  },
  {
   "cell_type": "code",
   "execution_count": null,
   "id": "da880a14",
   "metadata": {},
   "outputs": [],
   "source": [
    "X_train, X_val, y_train, y_val = train_test_split(X_train, y_train,\n",
    "                                                  test_size=0.2,\n",
    "                                                  random_state=27,\n",
    "                                                 )"
   ]
  },
  {
   "cell_type": "code",
   "execution_count": null,
   "id": "b0bc7125",
   "metadata": {},
   "outputs": [],
   "source": [
    "x_features = X_train.columns.values[2:] # исключаем из обучения iser_id и item_id"
   ]
  },
  {
   "cell_type": "code",
   "execution_count": null,
   "id": "dc0d4a09",
   "metadata": {},
   "outputs": [],
   "source": [
    "model_catb = catb.CatBoostClassifier(silent=True, \n",
    "                                    random_state=27,\n",
    "                                    # eval_metric='F1',\n",
    "                                     early_stopping_rounds=20,\n",
    "                                     use_best_model=True,\n",
    "                                     num_boost_round=10000\n",
    "                                    )"
   ]
  },
  {
   "cell_type": "code",
   "execution_count": null,
   "id": "902659f0",
   "metadata": {},
   "outputs": [],
   "source": [
    "model_catb.fit(X_train[x_features], y_train, eval_set=(X_val[x_features], y_val))"
   ]
  },
  {
   "cell_type": "markdown",
   "id": "e1178d2a",
   "metadata": {},
   "source": [
    "#### Предсказание"
   ]
  },
  {
   "cell_type": "code",
   "execution_count": null,
   "id": "ad524f69",
   "metadata": {},
   "outputs": [],
   "source": [
    "def get_items(x_data, items, user_id, item_name, N=5, overall_top_purchases=None):\n",
    "    items_list = []\n",
    " \n",
    "    for item in items:\n",
    "        flag = (x_data.loc[((x_data['user_id']==user_id) & (x_data['item_id']==item)),item_name].mean())\n",
    "        \n",
    "        if (flag > 0.3):\n",
    "            items_list.append(item)\n",
    "\n",
    "    if not(overall_top_purchases is None):\n",
    "\n",
    "        if len(items_list) < N:\n",
    "            items_list.extend(overall_top_purchases[:N])\n",
    "        items_list = items_list[:N]\n",
    "    return items_list"
   ]
  },
  {
   "cell_type": "code",
   "execution_count": null,
   "id": "fabcc350",
   "metadata": {},
   "outputs": [],
   "source": [
    "def get_final_recomendations(x_data, y_data, preds):\n",
    "    x_data = x_data.copy()\n",
    "    x_data['predict'] = preds\n",
    "    x_data['actual'] = y_data['target'].values\n",
    "\n",
    "    result = x_data.sort_values('predict', ascending=False).groupby('user_id')['item_id'].unique().reset_index()\n",
    "\n",
    "    overall_top_purchases = x_data.groupby('item_id')['item_id'].count()\n",
    "    overall_top_purchases = overall_top_purchases.sort_values(ascending=False).index.values\n",
    "\n",
    "    result_df= {'user_id':[], 'actual':[], 'predict':[]}\n",
    "\n",
    "    for res in tqdm(result.iterrows()):\n",
    "        user_id = res[1]['user_id']\n",
    "        item_ids = res[1]['item_id']\n",
    "        actual = get_items(x_data, item_ids, user_id, 'actual', N=final_predict_count)\n",
    "        if len(actual)>0:\n",
    "            result_df['user_id'].append(user_id)\n",
    "            predict_items= get_items(x_data, item_ids, user_id, 'predict', N=final_predict_count, overall_top_purchases = overall_top_purchases)\n",
    "            result_df['predict'].append(postfilter_items(predict_items, item_features, N=val_count)) # Бизнес-ограничения. ^_^\n",
    "            result_df['actual'].append(actual)\n",
    "    return pd.DataFrame(result_df) "
   ]
  },
  {
   "cell_type": "code",
   "execution_count": null,
   "id": "a287629a",
   "metadata": {},
   "outputs": [],
   "source": [
    "train_preds = model_catb.predict_proba(X_train[x_features])[:,1]"
   ]
  },
  {
   "cell_type": "code",
   "execution_count": null,
   "id": "46964322",
   "metadata": {},
   "outputs": [],
   "source": [
    "result_train = get_final_recomendations(X_train, y_train, train_preds)\n",
    "\n",
    "result_train.head(3)"
   ]
  },
  {
   "cell_type": "code",
   "execution_count": null,
   "id": "6e1bccfc",
   "metadata": {},
   "outputs": [],
   "source": [
    "precision_train = result_train.apply(lambda row: precision_at_k(row['predict'], row['actual']), axis=1).mean()\n",
    "print(f'Train precision: {precision_train:.03}')"
   ]
  },
  {
   "cell_type": "code",
   "execution_count": null,
   "id": "6cac497e",
   "metadata": {},
   "outputs": [],
   "source": [
    "test_preds = model_catb.predict_proba(X_test[x_features])[:,1]"
   ]
  },
  {
   "cell_type": "code",
   "execution_count": null,
   "id": "6e898d17",
   "metadata": {},
   "outputs": [],
   "source": [
    "result_test = get_final_recomendations(X_test, y_test, test_preds)\n",
    "\n",
    "result_test.head(3)"
   ]
  },
  {
   "cell_type": "code",
   "execution_count": null,
   "id": "efd402bf",
   "metadata": {},
   "outputs": [],
   "source": [
    "precision_test = result_test.apply(lambda row: precision_at_k(row['predict'], row['actual']), axis=1).mean()\n",
    "print(f'Test precision: {precision_test:.03}')"
   ]
  },
  {
   "cell_type": "markdown",
   "id": "fb444259",
   "metadata": {},
   "source": [
    "#### Сохранение результатов"
   ]
  },
  {
   "cell_type": "code",
   "execution_count": null,
   "id": "ec36bd1e",
   "metadata": {},
   "outputs": [],
   "source": [
    "result_test.to_csv('finally_prediction.csv', index=False)"
   ]
  },
  {
   "cell_type": "code",
   "execution_count": null,
   "id": "349d92bc",
   "metadata": {},
   "outputs": [],
   "source": [
    "import pickle\n",
    "\n",
    "with open('catboost_model.pickle', 'wb') as f:\n",
    "    pickle.dump(model_catb, f, protocol=pickle.HIGHEST_PROTOCOL)"
   ]
  },
  {
   "cell_type": "code",
   "execution_count": null,
   "id": "5154f72f",
   "metadata": {},
   "outputs": [],
   "source": []
  }
 ],
 "metadata": {
  "kernelspec": {
   "display_name": "Python 3 (ipykernel)",
   "language": "python",
   "name": "python3"
  },
  "language_info": {
   "codemirror_mode": {
    "name": "ipython",
    "version": 3
   },
   "file_extension": ".py",
   "mimetype": "text/x-python",
   "name": "python",
   "nbconvert_exporter": "python",
   "pygments_lexer": "ipython3",
   "version": "3.9.12"
  }
 },
 "nbformat": 4,
 "nbformat_minor": 5
}
